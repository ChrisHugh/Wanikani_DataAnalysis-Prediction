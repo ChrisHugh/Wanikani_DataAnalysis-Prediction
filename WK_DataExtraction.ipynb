{
 "cells": [
  {
   "cell_type": "code",
   "execution_count": 1,
   "metadata": {},
   "outputs": [
    {
     "name": "stdout",
     "output_type": "stream",
     "text": [
      "Processing assignments_20250404_131341.json...\n",
      "Processed data saved to: data/curated\\curated_assignments_20250404_131341.csv\n",
      "Processing level_progressions_20250404_131342.json...\n",
      "Processed data saved to: data/curated\\curated_level_progressions_20250404_131342.csv\n",
      "Processing review_statistics_20250404_131348.json...\n",
      "Processed data saved to: data/curated\\curated_review_statistics_20250404_131348.csv\n",
      "Processing spaced_repetition_systems_20250404_131349.json...\n",
      "Processed data saved to: data/curated\\curated_spaced_repetition_systems_20250404_131349.csv\n",
      "Processing subjects_20250404_131334.json...\n",
      "Processed data saved to: data/curated\\curated_subjects_20250404_131334.csv\n"
     ]
    }
   ],
   "source": [
    "from data_processor import WaniKaniDataProcessor\n",
    "from data_fetcher import WaniKaniDataFetcher\n",
    "\n",
    "processor = WaniKaniDataProcessor()\n",
    "processor.process_all_files()\n"
   ]
  }
 ],
 "metadata": {
  "kernelspec": {
   "display_name": "Python 3",
   "language": "python",
   "name": "python3"
  },
  "language_info": {
   "codemirror_mode": {
    "name": "ipython",
    "version": 3
   },
   "file_extension": ".py",
   "mimetype": "text/x-python",
   "name": "python",
   "nbconvert_exporter": "python",
   "pygments_lexer": "ipython3",
   "version": "3.11.9"
  }
 },
 "nbformat": 4,
 "nbformat_minor": 2
}
