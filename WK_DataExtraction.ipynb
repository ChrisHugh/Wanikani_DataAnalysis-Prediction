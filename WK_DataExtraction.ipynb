{
 "cells": [
  {
   "cell_type": "code",
   "execution_count": 1,
   "metadata": {},
   "outputs": [
    {
     "name": "stdout",
     "output_type": "stream",
     "text": [
      "Processing level_progressions_20250320_141329.json...\n",
      "Processed data saved to: data/curated\\processed_level_progressions_20250320_141329_20250320_143544.csv\n",
      "Processing review_statistics_20250320_141503.json...\n",
      "Processed data saved to: data/curated\\processed_review_statistics_20250320_141503_20250320_143544.csv\n",
      "Processing subjects_20250320_141651.json...\n",
      "Processed data saved to: data/curated\\processed_subjects_20250320_141651_20250320_143545.csv\n"
     ]
    }
   ],
   "source": [
    "from data_processor import WaniKaniDataProcessor\n",
    "\n",
    "processor = WaniKaniDataProcessor()\n",
    "processor.process_all_files()\n"
   ]
  }
 ],
 "metadata": {
  "kernelspec": {
   "display_name": "Python 3",
   "language": "python",
   "name": "python3"
  },
  "language_info": {
   "codemirror_mode": {
    "name": "ipython",
    "version": 3
   },
   "file_extension": ".py",
   "mimetype": "text/x-python",
   "name": "python",
   "nbconvert_exporter": "python",
   "pygments_lexer": "ipython3",
   "version": "3.11.9"
  }
 },
 "nbformat": 4,
 "nbformat_minor": 2
}
